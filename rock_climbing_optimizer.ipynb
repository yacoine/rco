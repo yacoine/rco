{
 "cells": [
  {
   "cell_type": "code",
   "execution_count": 1,
   "id": "5c18f57d",
   "metadata": {},
   "outputs": [],
   "source": [
    "from cv2_v2 import *\n",
    "\n",
    "\n",
    "fn='/Users/yassineacoine/Desktop/private/rock_climbing_path/data_set/sample/rc_sample.jpg'\n",
    "clr=color_schema('yellow')\n",
    "value=assisted_masking(path=fn,lower=clr[0],upper=clr[1])"
   ]
  },
  {
   "cell_type": "code",
   "execution_count": 4,
   "id": "742328a2",
   "metadata": {},
   "outputs": [
    {
     "name": "stdout",
     "output_type": "stream",
     "text": [
      "<module 'cv2' from '/Library/Frameworks/Python.framework/Versions/3.10/lib/python3.10/site-packages/cv2/__init__.py'>\n"
     ]
    },
    {
     "data": {
      "text/plain": [
       "0"
      ]
     },
     "execution_count": 4,
     "metadata": {},
     "output_type": "execute_result"
    }
   ],
   "source": [
    "from cv2_v2 import *\n",
    "fn='/Users/yassineacoine/Desktop/private/rock_climbing_path/data_set/sample/rc_sample.jpg'\n",
    "\n",
    "#fn='/Users/yassineacoine/Desktop/private/rock_climbing_path/data_set/sample/68653571067__FCF9D813-5942-4A11-BD7B-0F75D71F1F49.jpg'\n",
    "\n",
    "img=cv2.imread(fn)#read file\n",
    "\n",
    "clr=color_schema('green')\n",
    "value=assisted_masking(path=fn,lower=clr[0],upper=clr[1])\n",
    "\n",
    "imgray = cv2.cvtColor(value, cv2.COLOR_BGR2GRAY)\n",
    "ret, thresh = cv2.threshold(imgray, 127, 255, 0)\n",
    "contours, hierarchy = cv2.findContours(thresh, cv2.RETR_TREE, cv2.CHAIN_APPROX_SIMPLE)\n",
    "\n",
    "v=cv2.drawContours(value, contours, -1, (0,255,0), 3)\n",
    "\n",
    "font = cv2.FONT_HERSHEY_COMPLEX\n",
    "\n",
    "# Going through every contours found in the image.\n",
    "for cnt in contours :\n",
    "  \n",
    "    approx = cv2.approxPolyDP(cnt, 0.009 * cv2.arcLength(cnt, True), True)\n",
    "  \n",
    "    # draws boundary of contours.\n",
    "    cv2.drawContours(value, [approx], 0, (0, 0, 255), 5) \n",
    "  \n",
    "    # Used to flatted the array containing\n",
    "    # the co-ordinates of the vertices.\n",
    "    n = approx.ravel() \n",
    "    i = 0\n",
    "  \n",
    "    for j in n :\n",
    "        if(i % 2 == 0):\n",
    "            x = n[i]\n",
    "            y = n[i + 1]\n",
    "  \n",
    "            # String containing the co-ordinates.\n",
    "            string = str(x) + \" \" + str(y) \n",
    "  \n",
    "            if(i == 0):\n",
    "                # text on topmost co-ordinate.\n",
    "                cv2.putText(img, \"Arrow tip\", (x, y),\n",
    "                                font, 0.5, (255, 0, 0)) \n",
    "            else:\n",
    "                # text on remaining co-ordinates.\n",
    "                #cv2.putText(img, string, (x, y), \n",
    "                          #font, 0.5, (0, 255, 0)) \n",
    "                pass\n",
    "        i = i + 1\n",
    "\n",
    "#new=img   \n",
    "\n",
    "print(cv2)\n",
    "        \n",
    "moment_display(img)\n",
    "\n",
    "#moment_display(new)"
   ]
  },
  {
   "cell_type": "markdown",
   "id": "e1b025db",
   "metadata": {},
   "source": [
    "# Consolidated def functions with results \n",
    "\n",
    "#### Phase 1: Translating picture of rock climbing wall to x-y graph of invidual center holds\n",
    "    1.Image is ingested\n",
    "    2.Image is changed to RGB/RBG to HSV in order to better differentiate the holds/objects of interest\n",
    "    3.Predisposed color ranges have been coded and can be chosen in order to help user \n",
    "    4.Additional sliders can be used to change the hue,saturation,and value in order to best isolate the color-specific holds of interest from all other holds and wall\n",
    "    5.Once appropriate holds are isolated and result is appropriate to user, a k-means classificaiton is used to find the center of each hold\n",
    "    6. The number of holds need to be inputted in order to properly determine the center (would be best to not have to do that)\n",
    "    7. Centers of each hold is then visualized on a separate x-y axis in order to start phase.\n",
    "    \n",
    "#### Phase 2: Using the center holds and finding best hand and feet path based on human biomechanics \n",
    "    1. Create human cody constraints \n",
    "    "
   ]
  },
  {
   "cell_type": "code",
   "execution_count": 13,
   "id": "cf0b249a",
   "metadata": {},
   "outputs": [
    {
     "name": "stderr",
     "output_type": "stream",
     "text": [
      "/Library/Frameworks/Python.framework/Versions/3.10/lib/python3.10/site-packages/IPython/core/pylabtools.py:151: UserWarning: This figure includes Axes that are not compatible with tight_layout, so results might be incorrect.\n",
      "  fig.canvas.print_figure(bytes_io, **kw)\n"
     ]
    },
    {
     "data": {
      "image/png": "[encoded data removed]",
      "text/plain": [
       "<Figure size 750x350 with 1 Axes>"
      ]
     },
     "metadata": {},
     "output_type": "display_data"
    }
   ],
   "source": [
    "from cv2_v2 import *\n",
    "#fn='/Users/yassineacoine/Desktop/private/rock_climbing_path/data_set/sample/rc_sample.jpg'\n",
    "\n",
    "f='/Users/yassineacoine/Desktop/private/rock_climbing_path/data_set/sample/'\n",
    "#image='245379234_4650402895027244_263010799927765806_n.jpeg'\n",
    "image='rc_sample_3.jpeg'\n",
    "\n",
    "fn=f+image\n",
    "img=cv2.imread(fn)#read file\n",
    "\n",
    "clr=color_schema('blue')\n",
    "value=assisted_masking(path=fn,lower=clr[0],upper=clr[1])\n",
    "\n",
    "img,coordinates=trace_pathx(path=fn,value=value)#\n",
    "\n",
    "#centroids=find_centroids(coordinates,n_clusters=23) #static finding centroids \n",
    "\n",
    "centroids=find_holds(path=fn,coordinates=coordinates)#dynamically finding centroids\n",
    "\n",
    "#centroids\n",
    "simple_plot(centroids)\n",
    "\n",
    "\n",
    "\n"
   ]
  },
  {
   "cell_type": "code",
   "execution_count": 8,
   "id": "1757b947",
   "metadata": {},
   "outputs": [
    {
     "data": {
      "text/plain": [
       "0"
      ]
     },
     "execution_count": 8,
     "metadata": {},
     "output_type": "execute_result"
    }
   ],
   "source": [
    "f='/Users/yassineacoine/Desktop/private/rock_climbing_path/data_set/sample/'\n",
    "image='rc_sample_3.jpeg'\n",
    "path_result=f+image\n",
    "img=cv2.imread(path_result) \n",
    "font = cv2.FONT_HERSHEY_COMPLEX\n",
    "\n",
    "x=centroids[::2] \n",
    "y=centroids[1::2] \n",
    "\n",
    "for i,j in zip(x,y):\n",
    "    \n",
    "    cv2.putText(img, \"X\", (int(i), int(j)), font, 0.8, (30, 40, 0)) \n",
    "\n",
    "moment_display(img)"
   ]
  },
  {
   "cell_type": "code",
   "execution_count": 8,
   "id": "c10b85b1",
   "metadata": {},
   "outputs": [],
   "source": [
    "import time\n",
    "\n",
    "f='/Users/yassineacoine/Desktop/private/rock_climbing_path/data_set/sample/'\n",
    "image='rc_sample_3.jpeg'\n",
    "path_result=f+image\n",
    "img=cv2.imread(path_result)\n",
    "cv2.namedWindow('image')\n",
    "cv2.createTrackbar('Number','image',5,49,empty)\n",
    "font = cv2.FONT_HERSHEY_COMPLEX\n",
    "\n",
    "\n",
    "while(True):\n",
    "\n",
    "        # for button pressing and changing\n",
    "    k = cv2.waitKey(1) & 0xFF\n",
    "        #once \"ESC\" button is pressed, loop breaks (true for linux)\n",
    "    if k == 27:\n",
    "\n",
    "        break\n",
    "        #retrieving the min max values based on track bar position \n",
    "    n= cv2.getTrackbarPos('Number', 'image')\n",
    "    if n ==-1:\n",
    "        pass\n",
    "    else:\n",
    "        centroids=find_centroids(coordinates,n_clusters=n)\n",
    "\n",
    "    x=centroids[::2] \n",
    "    y=centroids[1::2] \n",
    "    for i,j in zip(x,y):\n",
    "    \n",
    "        cv2.putText(img, \"X\", (int(i), int(j)), font, 0.8, (30, 40, 0)) \n",
    "\n",
    "    cv2.imshow('image',img)\n",
    "    img=cv2.imread(path_result)\n",
    "    #time.sleep(0.5)\n",
    "cv2.destroyAllWindows();cv2.waitKey(1);"
   ]
  },
  {
   "cell_type": "code",
   "execution_count": 15,
   "id": "faee5879",
   "metadata": {},
   "outputs": [],
   "source": [
    "\n",
    "\n",
    "f='/Users/yassineacoine/Desktop/private/rock_climbing_path/data_set/sample/'\n",
    "image='rc_sample_3.jpeg'\n",
    "path_result=f+image\n",
    "img=cv2.imread(path_result) \n",
    "cv2.namedWindow('result')\n",
    "cv2.createTrackbar('Number','result',1,49,empty)\n",
    "cv2.imshow('result',img)\n",
    "    \n",
    "cv2.waitKey(0);cv2.destroyAllWindows();cv2.waitKey(1);"
   ]
  },
  {
   "cell_type": "code",
   "execution_count": 12,
   "id": "469af9f7",
   "metadata": {},
   "outputs": [],
   "source": [
    "def find_holds(path,coordinates):\n",
    "\n",
    "    img=cv2.imread(path)\n",
    "    cv2.namedWindow('image')\n",
    "    cv2.createTrackbar('Number','image',5,49,empty)\n",
    "    font = cv2.FONT_HERSHEY_COMPLEX\n",
    "\n",
    "\n",
    "    while(True):\n",
    "\n",
    "            # for button pressing and changing\n",
    "        k = cv2.waitKey(1) & 0xFF\n",
    "            #once \"ESC\" button is pressed, loop breaks (true for linux)\n",
    "        if k == 27:\n",
    "\n",
    "            break\n",
    "            #retrieving the min max values based on track bar position \n",
    "        n= cv2.getTrackbarPos('Number', 'image')\n",
    "        if n ==-1:\n",
    "            pass\n",
    "        else:\n",
    "            centroids=find_centroids(coordinates,n_clusters=n)\n",
    "\n",
    "        x=centroids[::2] \n",
    "        y=centroids[1::2] \n",
    "        for i,j in zip(x,y):\n",
    "\n",
    "            cv2.putText(img, \"X\", (int(i), int(j)), font, 0.8, (30, 40, 0)) \n",
    "\n",
    "        cv2.imshow('image',img)\n",
    "        img=cv2.imread(path_result)\n",
    "        #time.sleep(0.5)\n",
    "    cv2.destroyAllWindows();cv2.waitKey(1);\n",
    "    \n",
    "    return centroids"
   ]
  },
  {
   "cell_type": "code",
   "execution_count": 39,
   "id": "d83fc16d",
   "metadata": {},
   "outputs": [
    {
     "name": "stdout",
     "output_type": "stream",
     "text": [
      "0,9\n",
      "1,1\n",
      "4,2\n",
      "4,5\n"
     ]
    }
   ],
   "source": [
    "x=[0,4,4,1]\n",
    "y=[9,2,5,1]\n",
    "\n",
    "k = sorted(set(zip(x,y)))\n",
    "a=zip(x,y)\n",
    "b=sorted(set(a))\n",
    "\n",
    "for i, j in sorted(set(zip(x,y))): \n",
    "    #plt.text(i, j+0.5, '({}, {})'.format(i, j))\n",
    "    #plt.text(i, j+0.5, 'Hold'+str(num) )\n",
    "    print('{},{}'.format(i,j))\n",
    "    #k.append((i,j))# turn into tu\n",
    "\n",
    "\n"
   ]
  }
 ],
 "metadata": {
  "kernelspec": {
   "display_name": "Python 3 (ipykernel)",
   "language": "python",
   "name": "python3"
  },
  "language_info": {
   "codemirror_mode": {
    "name": "ipython",
    "version": 3
   },
   "file_extension": ".py",
   "mimetype": "text/x-python",
   "name": "python",
   "nbconvert_exporter": "python",
   "pygments_lexer": "ipython3",
   "version": "3.10.7"
  }
 },
 "nbformat": 4,
 "nbformat_minor": 5
}
